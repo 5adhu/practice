{
  "nbformat": 4,
  "nbformat_minor": 0,
  "metadata": {
    "colab": {
      "name": "Pranctice_3_KM-01_<name>.ipynb",
      "provenance": [],
      "collapsed_sections": []
    },
    "kernelspec": {
      "name": "Python 3.8.0 64-bit",
      "display_name": "Python 3.8.0 64-bit",
      "metadata": {
        "interpreter": {
          "hash": "e82cc975a33aa9fe8aa4a1101f515a93453881cdf6c11a64ad004ad420b850f9"
        }
      }
    }
  },
  "cells": [
    {
      "cell_type": "markdown",
      "metadata": {
        "id": "1bRxWHr5e8kt"
      },
      "source": [
        "# **Курс \"Програмування на мові Python\"**\n",
        "\n",
        "##### Викладачі:\n",
        "##### Борисенко Павло Борисович\n",
        "##### Щьоголєв Максим Олегович"
      ]
    },
    {
      "cell_type": "markdown",
      "metadata": {
        "id": "buZUwUgFe-kx"
      },
      "source": [
        "## **Практичне зайняття №4**\n",
        "### Тема: \"Цикли. Робота зі списками\""
      ]
    },
    {
      "cell_type": "markdown",
      "metadata": {
        "id": "PUkxEn8EfAUe"
      },
      "source": [
        "### **Завдання 1 (1,5 бали)**\n",
        "\n"
      ]
    },
    {
      "source": [
        "Керівництво будівельної компанії вирішило підняти заробітні плати всім своїм працівникам на 30%. В залежності від спеціалізації та стажу працівники мають різну заробітну плату. Для підготовки звіту необхідно розрахувати нову заробітну плату для працівників компанії, а також суму індексації.\n",
        "\n",
        "Написати програму, яка буде генерувати таблицю для цього звіту. Початкова заробітна плата працівників подана у списку salary_list (у тисячах гривень).\n",
        "\n",
        "1. Для підрахунку невідомих значень та їх виведення повинен використовуватись цикл.\n",
        "\n",
        "2. Зарплата після індексації та сума індексації для працівників різних категорій повинні зберігатись у двох окремих списках. Порядок значень у кожному з нових списків повинен відповідати порядку значень у списку salary_list.\n",
        "\n",
        "3. Кожне підраховане числове значення має бути округлене до сотих. Для цього слід використати функцію round(). Приклад застосування цієї функції:\n",
        "\n",
        "```\n",
        "value_new = round(2.3741, 2)\n",
        "print(value_new)\n",
        "```\n",
        "\n",
        "4. Дані повинні виводитись у вигляді:\n",
        "\n",
        "**Salary table:**\n",
        "\n",
        "**7.3 9.49 2.19**\n",
        "\n",
        "**8.5 11.05 2.55**\n",
        "\n",
        "**...**\n",
        "\n",
        "salary_list = [[7.3, 8.5, 11, 12.7, 15.2, 21.12, 27.35]]"
      ],
      "cell_type": "markdown",
      "metadata": {}
    },
    {
      "cell_type": "code",
      "execution_count": 98,
      "metadata": {},
      "outputs": [
        {
          "output_type": "stream",
          "name": "stdout",
          "text": [
            "Salary:\n7.3 9.49 2.19\n8.5 11.05 2.55\n11 14.3 3.3\n12.7 16.51 3.81\n15.2 19.76 4.56\n21.12 27.46 6.34\n27.35 35.55 8.21\n"
          ]
        }
      ],
      "source": [
        "salary_list = [7.3, 8.5, 11, 12.7, 15.2, 21.12, 27.35]\n",
        "salary1 = [round(1.3*x, 2) for x in salary_list]\n",
        "index1 = [round(0.3*x, 2) for x in salary_list]\n",
        "print(\"Salary:\")\n",
        "for i in range(len(salary_list)):\n",
        "    print(salary_list[i],salary1[i],index1[i])"
      ]
    },
    {
      "source": [
        "### **Завдання 2 (1,5 бали)**"
      ],
      "cell_type": "markdown",
      "metadata": {}
    },
    {
      "cell_type": "markdown",
      "metadata": {
        "id": "4n4p_pz7gFKM"
      },
      "source": [
        "Перелічуючи деякі предмети у тексті, ми ставимо між ними коми. В англійській мові слово and зазвичай ставлять між останнім та передостаннім словом у переліку (за виключенням випадку, коли у списку всього одне слово). Розглянемо 4 приклади:\n",
        "\n",
        "**apples**\n",
        "\n",
        "**apples and oranges**\n",
        "\n",
        "**apples, oranges and bananas**\n",
        "\n",
        "**apples, oranges, bananas and lemons**\n",
        "\n",
        "Напишіть програму, яка:\n",
        "\n",
        "1. отримує на вхід перелік деяких предметів, які користувач вводить з клавіатури, та записує їх у список у вигляді окремих елементів;\n",
        "\n",
        "2. виводить ці предмети у тій самій послідовності, в якій вони були введені, розставляючи коми та слово and так, як показано у прикладі."
      ]
    },
    {
      "cell_type": "code",
      "execution_count": 278,
      "metadata": {},
      "outputs": [
        {
          "output_type": "stream",
          "name": "stdout",
          "text": [
            "asd , asd , asd and asd\n"
          ]
        }
      ],
      "source": [
        "list =(input().split())\n",
        "if len(list) > 1:list.insert(-1,\"and\")\n",
        "if len(list) > 3:list.insert(-3,\",\")\n",
        "if len(list) > 5:list.insert(-5,\",\")\n",
        "if len(list) > 7:list.insert(-7,\",\")\n",
        "if len(list) > 9:list.insert(-9,\",\")\n",
        "list=\" \".join(list)\n",
        "print(list)\n"
      ]
    },
    {
      "cell_type": "code",
      "execution_count": 279,
      "metadata": {},
      "outputs": [
        {
          "output_type": "error",
          "ename": "SyntaxError",
          "evalue": "invalid syntax (<ipython-input-279-7e463c38ed9f>, line 5)",
          "traceback": [
            "\u001b[1;36m  File \u001b[1;32m\"<ipython-input-279-7e463c38ed9f>\"\u001b[1;36m, line \u001b[1;32m5\u001b[0m\n\u001b[1;33m    //попитка без костилей\u001b[0m\n\u001b[1;37m    ^\u001b[0m\n\u001b[1;31mSyntaxError\u001b[0m\u001b[1;31m:\u001b[0m invalid syntax\n"
          ]
        }
      ],
      "source": [
        "list =(input().split())\n",
        "if len(list) > 1:list.insert(-1,\"and\")\n",
        "if len(list) >0:print(\" \".join(list))\n",
        "for i in range(len(list)):list[i] =list.insert(-i,\",\")\n",
        "#попитка без костилей\n",
        "\n",
        "\n",
        "\n"
      ]
    },
    {
      "cell_type": "code",
      "execution_count": null,
      "metadata": {},
      "outputs": [],
      "source": []
    }
  ]
}